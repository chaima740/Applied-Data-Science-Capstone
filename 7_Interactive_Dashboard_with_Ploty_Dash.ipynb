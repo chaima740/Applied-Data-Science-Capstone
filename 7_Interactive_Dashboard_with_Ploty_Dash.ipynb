{
  "nbformat": 4,
  "nbformat_minor": 0,
  "metadata": {
    "colab": {
      "name": "7 Interactive Dashboard with Ploty Dash.ipynb",
      "provenance": []
    },
    "kernelspec": {
      "name": "python3",
      "display_name": "Python 3"
    },
    "language_info": {
      "name": "python"
    }
  },
  "cells": [
    {
      "cell_type": "code",
      "execution_count": 3,
      "metadata": {
        "colab": {
          "base_uri": "https://localhost:8080/",
          "height": 132
        },
        "id": "5LFzIbCTIKHh",
        "outputId": "a0e0bbbd-2091-4926-f76e-855dfe9ce111"
      },
      "outputs": [
        {
          "output_type": "error",
          "ename": "SyntaxError",
          "evalue": "ignored",
          "traceback": [
            "\u001b[0;36m  File \u001b[0;32m\"<ipython-input-3-2a4318374bd9>\"\u001b[0;36m, line \u001b[0;32m48\u001b[0m\n\u001b[0;31m    html.Div(dcc.Graph(id='success-payload-scatter-chart')),\u001b[0m\n\u001b[0m       ^\u001b[0m\n\u001b[0;31mSyntaxError\u001b[0m\u001b[0;31m:\u001b[0m invalid syntax\n"
          ]
        }
      ],
      "source": [
        "# Import required libraries\n",
        "import pandas as pd\n",
        "import dash\n",
        "import dash_html_components as html\n",
        "import dash_core_components as dcc\n",
        "from dash.dependencies import Input, Output\n",
        "import plotly.express as px\n",
        "\n",
        "# Read the airline data into pandas dataframe\n",
        "spacex_df = pd.read_csv(\"spacex_launch_dash.csv\")\n",
        "max_payload = spacex_df['Payload Mass (kg)'].max()\n",
        "min_payload = spacex_df['Payload Mass (kg)'].min()\n",
        "\n",
        "# Create a dash application\n",
        "app = dash.Dash(__name__)\n",
        "\n",
        "# Create an app layout\n",
        "app.layout = html.Div(children=[html.H1('SpaceX Launch Records Dashboard',\n",
        "                                        style={'textAlign': 'center', 'color': '#503D36',\n",
        "                                               'font-size': 40}),\n",
        "                                # TASK 1: Add a dropdown list to enable Launch Site selection\n",
        "                                # The default select value is for ALL sites\n",
        "                                dcc.Dropdown(id='site-dropdown',\n",
        "                                            options=[\n",
        "                                                    {'label': 'All Sites', 'value': 'ALL'},\n",
        "                                                    {'label': 'site1', 'value': 'site1'},\n",
        "                                                    ],\n",
        "                                            value='ALL',\n",
        "                                            placeholder=\"select launch site here\",\n",
        "                                            searchable=True,\n",
        "                                html.Br(),\n",
        "\n",
        "                                # TASK 2: Add a pie chart to show the total successful launches count for all sites\n",
        "                                # If a specific launch site was selected, show the Success vs. Failed counts for the site\n",
        "                                html.Div(dcc.Graph(id='success-pie-chart')),\n",
        "                                html.Br(),\n",
        "\n",
        "                                html.P(\"Payload range (Kg):\"),\n",
        "                                # TASK 3: Add a slider to select payload range\n",
        "                                #dcc.RangeSlider(id='payload-slider',...)\n",
        "                                dcc.RangeSlider(id='payload-slider',\n",
        "                                                min=0, max=10000, step=1000,\n",
        "                                                marks={0: '0',\n",
        "                                                       100: '100'},\n",
        "                                                value=[min_payload, max_payload])\n",
        "\n",
        "                                # TASK 4: Add a scatter chart to show the correlation between payload and launch success\n",
        "                                html.Div(dcc.Graph(id='success-payload-scatter-chart')),\n",
        "                                ])\n",
        "\n",
        "# TASK 2:\n",
        "# Add a callback function for `site-dropdown` as input, `success-pie-chart` as output\n",
        "@app.callback(Output(component_id='success-pie-chart', component_property='figure'),\n",
        "              Input(component_id='site-dropdown', component_property='value'))\n",
        "def get_pie_chart(site-dropdown):\n",
        "    filtered_df = spacex_df\n",
        "    if site-dropdown == 'ALL':\n",
        "        fig = px.pie(spacex_df, values='class', \n",
        "        names='Launch Site', \n",
        "        title='Total Success Launches')\n",
        "        return fig\n",
        "    else:\n",
        "        filtered_df = spacex_df[spacex_df['Launch Site'] == site_dropdown]\n",
        "        filtered_df = filtered_df.groupby(['Launch Site','class']).size().reset_index(name='class count')\n",
        "        fig=px.pie(filtered_df, values='class count', names='class', title=\"Total Success Launches by Site\")\n",
        "        return fig\n",
        "\n",
        "# TASK 4:\n",
        "# Add a callback function for `site-dropdown` and `payload-slider` as inputs, `success-payload-scatter-chart` as output\n",
        "@app.callback(Output(component_id='success-payload-scatter-chart',component_property='figure'),\n",
        "                [Input(component_id='site_dropdown',component_property='value'),\n",
        "                Input(component_id='payload-slider',component_property='value')])\n",
        "def scatter(site_dropdown,payload):\n",
        "    low,high = payload\n",
        "    mask=(spacex_df['Payload Mass (kg)']>low)&(spacex_df['Payload Mass (kg)']<high)\n",
        "    filtered_df = spacex_df[mask]\n",
        "    if site_dropdown == 'ALL':\n",
        "        fig = px.scatter(spacex_df,\n",
        "        x='Payload Mass (kg)',\n",
        "        y='class', \n",
        "        values='class',\n",
        "        color=\"Booster Version Category\",\n",
        "        title='Payload vs. Success')\n",
        "        return fig\n",
        "    else:\n",
        "        filtered_df1 = filtered_df[filtered_df['Launch Site']==site_dropdown]\n",
        "        fig = px.scatter (filtered_df1, x='Payload Mass (kg)', y='class', color='Booster Version Category', title='Payload vs Success Launches')\n",
        "        return fig\n",
        "\n",
        "# Run the app\n",
        "if __name__ == '__main__':\n",
        "    app.run_server()"
      ]
    }
  ]
}